{
 "cells": [
  {
   "cell_type": "markdown",
   "id": "45a87033-6895-4a70-a47a-a4f1f2061ca3",
   "metadata": {
    "tags": []
   },
   "source": [
    "# Rockall Trough glider section - HEOF analysis"
   ]
  },
  {
   "cell_type": "code",
   "execution_count": 1,
   "id": "33fce0b4-fdb1-4ac4-b259-928731533cb5",
   "metadata": {
    "tags": []
   },
   "outputs": [],
   "source": [
    "%load_ext autoreload\n",
    "%autoreload 2\n",
    "import sys; sys.path.append(r'../') # Add this line at the beginner of each notebook to be able to load local functions \n",
    "import src.features.RT_functions as rtf\n",
    "import src.features.RT_data as rtd\n",
    "import src.features.matfile_functions as matlab_fct\n",
    "import src.features.RT_EOF_functions as rt_eof\n",
    "import src.set_paths as sps\n",
    "import src.RT_parameters as rtp\n",
    "import src.features.RT_visualise as rtv"
   ]
  },
  {
   "cell_type": "code",
   "execution_count": 2,
   "id": "747b52b9-b83f-485c-b421-846fd474f463",
   "metadata": {
    "tags": []
   },
   "outputs": [],
   "source": [
    "import dask\n",
    "import datetime\n",
    "import gsw\n",
    "import scipy\n",
    "import scipy.io\n",
    "import cmocean as cm\n",
    "import numpy as np\n",
    "import pandas as pd\n",
    "import seawater as sw\n",
    "import scipy.signal as signal\n",
    "# from eofs.xarray import Eof\n",
    "import mat73\n",
    "import palettable.colorbrewer as cb\n",
    "import xarray as xr\n",
    "from pathlib import Path\n",
    "from scipy.signal import butter, filtfilt\n",
    "from xhistogram.xarray import histogram as xhist\n",
    "import xeofs as xe\n",
    "xr.set_options(display_expand_attrs=False)\n",
    "import warnings\n",
    "warnings.filterwarnings('ignore')"
   ]
  },
  {
   "cell_type": "markdown",
   "id": "19ac391f-16f4-4705-8682-58e3102ae381",
   "metadata": {
    "tags": []
   },
   "source": [
    "## Output praemble"
   ]
  },
  {
   "cell_type": "code",
   "execution_count": 3,
   "id": "1c4bba59-a0f2-4fc0-9aee-84eb111c025b",
   "metadata": {},
   "outputs": [],
   "source": [
    "date_str_start = '2020'\n",
    "date_str_end = '2023'\n",
    "fn_version = 'v0'\n",
    "script_name = f\"2.1_Rockall_Trough_glider_EW_HEOF_{date_str_start[:-2]}_{date_str_end[:-2]}\"\n",
    "\n",
    "# output figures\n",
    "fig_out_path = f\"C:/Users/sa07kb/Projects/Rockall_Trough_Transports/figures/{script_name}/\"\n",
    "Path(fig_out_path).mkdir(parents=True, exist_ok=True)"
   ]
  },
  {
   "cell_type": "code",
   "execution_count": 4,
   "id": "b49c39d1-b494-4b0c-a1f8-1efaee663a5f",
   "metadata": {
    "tags": []
   },
   "outputs": [],
   "source": [
    "# output data\n",
    "# data_out_path = f\"C:/Users/sa07kb/Projects/Rockall_Trough_Transports/data/{script_name}/\"\n",
    "# Path(data_out_path).mkdir(parents=True, exist_ok=True)\n",
    "\n",
    "# fn_base = \"Rockall_Trough_transport_time_series\"\n",
    "# file_name_out = f\"{fn_base}_{date_str_start}_{date_str_end}_{fn_version}.nc\""
   ]
  },
  {
   "cell_type": "markdown",
   "id": "baf74d96-effe-4732-bfa4-5979cde29d97",
   "metadata": {
    "tags": []
   },
   "source": [
    "## Input Praemble"
   ]
  },
  {
   "cell_type": "code",
   "execution_count": 5,
   "id": "fa4a8db1-64e5-4255-9806-69c786a61c5e",
   "metadata": {
    "tags": []
   },
   "outputs": [],
   "source": [
    "# # global data\n",
    "# global_data_path = Path(\"C:/Users/sa07kb/OneDrive - SAMS/data/\")\n",
    "# raw_data_path = Path('../data/raw')\n",
    "# RT_q_data_path = Path('../data/0_Rockall_Trough_transports_2014_2022')\n",
    "\n",
    "# # file directories\n",
    "# GEBCO_data_path = (global_data_path/ 'data_GEBCO')\n",
    "# glider_data_path = (global_data_path/ 'data_seaglider')\n",
    "# GLORYS_data_path = (global_data_path/ 'data_GLORYS')\n",
    "# RT_mooring_data_path = Path('../data/0.0_Rockall_Trough_moorings_plot_data_2014_2022_v0/')\n",
    "\n",
    "# # file names\n",
    "# glider_fn = 'glider_sections_gridded.mat'\n",
    "# RT_mooring_loc = 'Ellet_array_mooring_location.csv'\n",
    "# RT_q_fn = 'RT_q_time_series_201407_202207_v0.nc'\n",
    "# RT_mooring_fn = f'Rockall_Trough_mooring_gridded_TSUV_201407_202207_v0.1.nc'\n",
    "# GEBCO_fn = 'GEBCO_2014_2D_-22.0_55.0_-7.0_59.0.nc'\n",
    "# GLORYS_fn_re = list(sorted(\n",
    "#         (GLORYS_data_path).glob(f\"*reanalyis-phy*Vvel.nc\") # reanalysis\n",
    "#     ))\n",
    "# GLORYS_fn_an = list(sorted(\n",
    "#         (GLORYS_data_path).glob(f\"*anfc-phy-001_024_Vvel.nc\") # analysis/forecasts\n",
    "#     ))"
   ]
  },
  {
   "cell_type": "code",
   "execution_count": 6,
   "id": "c945bc07-0d22-4911-b22b-7d2112990a9c",
   "metadata": {},
   "outputs": [],
   "source": [
    "# intput data\n",
    "fn_in_version = 'v1'\n",
    "fn_base_grid = \"Rockall_Trough_mooring_gridded_TSUV\"\n",
    "fn_base_stack = \"Rockall_Trough_mooring_stacked_TSUV\"\n",
    "date_str_start_moor = '201407'\n",
    "date_str_end_moor = '202207'\n",
    "\n",
    "RT_mooring_fn = f\"{fn_base_grid}_{date_str_start_moor}_{date_str_end_moor}_{fn_in_version}.nc\"\n",
    "file_name_in_stack = f\"{fn_base_stack}_{date_str_start_moor}_{date_str_end_moor}_{fn_in_version}.nc\""
   ]
  },
  {
   "cell_type": "markdown",
   "id": "4657d6e6-9f3e-4beb-a3a9-7b6b4c07b398",
   "metadata": {
    "tags": []
   },
   "source": [
    "## Parameter Praemble"
   ]
  },
  {
   "cell_type": "code",
   "execution_count": 7,
   "id": "d243de45-3321-49f5-af9e-ec7fc6a6db52",
   "metadata": {},
   "outputs": [],
   "source": [
    "filter_length = 90     # (days)\n",
    "corr_model = 0.0759    # Correction parameter (m/s) to adjust GLORYS DAC V component to the 8 month DAC from ADCP\n",
    "z_cutoff_EW = 750     # Depth (m) where transition from GLORYS-ADCP data to CM data at Eastern wedge\n",
    "z_cutoff_WW = 250     # Depth (m) limit of upper-left corner cutout\n",
    "lon_cutoff_WW = -12.906  # Longitude limit of upper-left corner cutout\n",
    "NX_WW = 100            # Horizontal grid size in Western wedge\n",
    "NX_MB = 100           # Horizontal grid size in Mid-basin (needed for Ekman calc.)\n",
    "NX_EW = 100            # Horizontal grid size in Eastern wedge\n",
    "SA_ref = 35.34         # Reference Absolute Salinity (g/kg), for freshwater flux calc\n",
    "CT_ref = 7.07          # Reference Conservative Temperature (C), for heat flux calc\n",
    "rhoCp = 4.1e6         # Constant: Reference density times specific heat capacity (J m^-3 C^-1)   \n",
    "rho0 = 1027            # Reference density          \n",
    "Omega = 7.2921e-5     # Earth's rotation"
   ]
  },
  {
   "cell_type": "markdown",
   "id": "97881864-72ac-405b-97c9-1f0c1d714e97",
   "metadata": {
    "tags": []
   },
   "source": [
    "# Functions"
   ]
  },
  {
   "cell_type": "code",
   "execution_count": 8,
   "id": "a1cea83c-6849-4981-8d83-0cbf9bfebac7",
   "metadata": {
    "tags": []
   },
   "outputs": [],
   "source": [
    "def normalize(x=None, y=None):\n",
    "    return y / np.linalg.norm(y) / (x.max() - x.min()) ** 0.5\n",
    "\n",
    "\n",
    "def normal_mode(x, mode=1):\n",
    "    \"\"\"Create normal sine modes.\"\"\"\n",
    "    return normalize(\n",
    "        x=x,\n",
    "        y=np.sin(\n",
    "            mode * np.pi * (x - x.min()) / (x.max() - x.min())\n",
    "        )\n",
    "    )\n",
    "\n",
    "def harmonic_cycle(t, T=1, phi=0):\n",
    "    \"\"\"Create harmonic cycles.\"\"\"\n",
    "    return np.sin(2 * np.pi / T * (t + phi))"
   ]
  },
  {
   "cell_type": "code",
   "execution_count": 9,
   "id": "e64c6073-38e5-49be-81c0-816a6d73ba0e",
   "metadata": {
    "tags": []
   },
   "outputs": [],
   "source": [
    "def HEOF_func(v_anomaly,n_modes=4,plot_out=True,dim='x'):\n",
    "    kwargs = dict(n_modes = n_modes, use_coslat=False,random_state=1,check_nans=True)\n",
    "    # model = xe.models.ComplexEOF(padding=\"exp\", decay_factor=0.1, **kwargs)\n",
    "    model = xe.single.HilbertEOF(padding=\"none\", **kwargs)\n",
    "    # model = xe.models.ComplexEOF(padding=\"none\", **kwargs)\n",
    "\n",
    "    model.fit(v_anomaly, dim=\"time\")\n",
    "    \n",
    "    if plot_out == True:\n",
    "        expvar = model.explained_variance()\n",
    "        expvar_ratio = model.explained_variance_ratio()\n",
    "        scores = model.scores()\n",
    "        components = model.components()\n",
    "        axhdl = scores.real.plot.line(x=\"time\", col=\"mode\", lw=1, ylim=(-0.2, 0.2),label='real')\n",
    "        for i,ax in enumerate(axhdl.axes.flat):\n",
    "            scores.imag.isel(mode=i).plot.line(ax=ax, lw=1,label='imag')\n",
    "            ax.axhline(0,color='k',ls='--')\n",
    "        plt.legend()\n",
    "        plt.tight_layout()\n",
    "        plt.show()\n",
    "        \n",
    "        vmin,vmax,levs=0,0.025,26\n",
    "        axs = model.components_amplitude().plot(x=dim,col='mode',vmin=vmin,vmax=vmax,levels=levs)\n",
    "        for i,ax in enumerate(axs.axes.flat):\n",
    "            ax.text(0.95, 0.05,f'Expl. Var.\\n {(expvar_ratio * 100).round(0).values[i]:.0f}%',transform=ax.transAxes, fontsize=12,\n",
    "                     verticalalignment='bottom',horizontalalignment='right')\n",
    "            model.components_amplitude().isel(mode=i).plot.contour(ax=ax,x=dim,colors='w',linewidths=.5,\n",
    "                                                               vmin=vmin,vmax=vmax,levels=levs)\n",
    "    \n",
    "        vmin,vmax,levs=-3.6,3.6,37\n",
    "        axs = model.components_phase().plot(x=dim,col='mode',cmap=\"twilight\",vmin=vmin,vmax=vmax,levels=levs)\n",
    "        for i,ax in enumerate(axs.axes.flat):\n",
    "            ax.text(0.95, 0.05,f'Expl. Var.\\n {(expvar_ratio * 100).round(0).values[i]:.0f}%',transform=ax.transAxes, fontsize=12,\n",
    "                     verticalalignment='bottom',horizontalalignment='right')\n",
    "            model.components_phase().isel(mode=i).plot.contour(ax=ax,x=dim,colors='w',linewidths=.5,\n",
    "                                                               vmin=vmin,vmax=vmax,levels=levs)\n",
    "        plt.show()\n",
    "    \n",
    "    return model"
   ]
  },
  {
   "cell_type": "code",
   "execution_count": 10,
   "id": "94d820f1-56f2-4298-9269-835d1842122c",
   "metadata": {
    "tags": []
   },
   "outputs": [],
   "source": [
    "def plot_mean_section(ds_glider,ds_q_RT,v_rec,mode_no=1,mean=False):\n",
    "    \n",
    "    fig,axs = plt.subplots(1,4,figsize=[15,3])\n",
    "    vmin,vmax,levs=-0.2,0.2,41\n",
    "    ax=axs[0]\n",
    "    ds_glider.vcur.mean(['time']).plot(x='lon',ax=ax,vmin=vmin,vmax=vmax,levels=levs,cmap='RdBu_r')\n",
    "    ax.set_title('Glider')\n",
    "    ax=axs[1]\n",
    "    ds_q_RT.v_EW.mean(['TIME']).plot(x='lon_EW',ax=ax,vmin=vmin,vmax=vmax,levels=levs,cmap='RdBu_r')\n",
    "    ax.set_title('RT EW full')\n",
    "    v_heof = v_rec.sel(mode=mode_no)\n",
    "    if mean:\n",
    "        v_heof = v_heof.mean('mode')        \n",
    "    ax=axs[2]\n",
    "    v_heof.mean('time').plot(x='lon',ax=ax,vmin=vmin,vmax=vmax,levels=levs,cmap='RdBu_r')\n",
    "    ax.set_title(f'HEOF {mode_no} full')\n",
    "    ax=axs[3]\n",
    "    v_heof.interp(time=ds_glider.time.values\n",
    "                    ).mean(['time']).plot(x='lon',ax=ax,vmin=vmin,vmax=vmax,levels=levs,cmap='RdBu_r')\n",
    "    ax.set_title(f'HEOF {mode_no} resampled')\n",
    "    plt.tight_layout()"
   ]
  },
  {
   "cell_type": "code",
   "execution_count": 11,
   "id": "21a59cad-4c2a-4a61-abb4-23ec919bb5c8",
   "metadata": {
    "tags": []
   },
   "outputs": [],
   "source": [
    "def plot_seasonal_cycle(ds_glider,ds_q_RT,v_rec,ax=0,mode_no=1,mean=False):\n",
    "    color='C0'\n",
    "    m=ds_glider.vcur.groupby('time.month').mean(['time','lon','depth'])\n",
    "    d=ds_glider.vcur.groupby('time.month').std('time').mean(['lon','depth'])\n",
    "    ax.errorbar(m.month, m, yerr=d, fmt='-', capsize=3, capthick=1, color=color,label='Glider')\n",
    "\n",
    "    color='C1'\n",
    "    m = ds_q_RT.v_EW.groupby('TIME.month').mean(['TIME','lon_EW','depth']) \n",
    "    d=ds_q_RT.v_EW.groupby('TIME.month').std('TIME').mean(['lon_EW','depth'])\n",
    "    ax.errorbar(m.month, m, yerr=d, fmt='-', capsize=3, capthick=1, color=color,label='RT EW full')\n",
    "\n",
    "    v_heof = v_rec.sel(mode=mode_no)\n",
    "    if mean:\n",
    "        v_heof = v_heof.mean('mode') \n",
    "\n",
    "    color='C2'\n",
    "    m = v_heof.groupby('time.month').mean(['time','lon','depth']) \n",
    "    d=v_heof.groupby('time.month').std('time').mean(['lon','depth'])\n",
    "    ax.errorbar(m.month, m, yerr=d, fmt='-', capsize=3, capthick=1, color=color,label=f'HEOF {mode_no} full')\n",
    "\n",
    "    color='C3'\n",
    "    m = v_heof.interp(time=ds_glider.time.values\n",
    "                    ).groupby('time.month').mean(['time','lon','depth'])\n",
    "    d=v_heof.interp(time=ds_glider.time.values\n",
    "                    ).groupby('time.month').std('time').mean(['lon','depth'])\n",
    "    ax.errorbar(m.month, m, yerr=d, fmt='-', capsize=3, capthick=1, color=color,label=f'HEOF {mode_no} resampled')\n",
    "    ax.grid()\n",
    "    ax.legend(bbox_to_anchor=(0,1.02,1,0.2),loc='lower left',mode='expand',ncol=2)"
   ]
  },
  {
   "cell_type": "code",
   "execution_count": 12,
   "id": "5d194caa-294c-496a-afc4-d3cc69c10c4a",
   "metadata": {
    "tags": []
   },
   "outputs": [],
   "source": [
    "def plot_longterm(ds_glider,ds_q_RT,v_rec,ax=0,mode_no=1,mean=False):\n",
    "\n",
    "    ds_q_RT.v_EW.sel(TIME=slice(ds_glider.time.min().values,ds_glider.time.max().values)\n",
    "                    ).mean(['lon_EW','depth']).plot.line('-',label='RT EW orig',color='C1',ax=ax)\n",
    "    ds_glider.vcur.mean(['lon','depth']).plot.line('-',label='glider',color='C0',ax=ax)\n",
    "    v_heof = v_rec.sel(mode=mode_no)\n",
    "    if mean:\n",
    "        v_heof = v_heof.mean('mode') \n",
    "    v_heof.sel(time=slice(ds_glider.time.min().values,ds_glider.time.max().values)\n",
    "              ).mean(['lon','depth']).plot.line('-',label=f'HEOF {mode_no} full',color='C2',ax=ax)\n",
    "    ax.legend()\n",
    "    ax.grid()"
   ]
  },
  {
   "cell_type": "markdown",
   "id": "048a4c31-b95b-499d-aadf-6c35df7417eb",
   "metadata": {
    "tags": []
   },
   "source": [
    "# Load data"
   ]
  },
  {
   "cell_type": "code",
   "execution_count": 13,
   "id": "87ad27ac-ff82-4d37-8b05-f4b9433e5063",
   "metadata": {
    "tags": []
   },
   "outputs": [],
   "source": [
    "# Rockall Trough mooring location\n",
    "moor_ds=pd.read_csv(sps.raw_data_dir/sps.RT_loc_fn)\n",
    "moor_ds = moor_ds.set_index(['ID']).to_xarray()\n",
    "\n",
    "lon_RTWB1 = moor_ds.sel(ID='RTWB1').lon.values\n",
    "lat_RTWB1 = moor_ds.sel(ID='RTWB1').lat.values\n",
    "lon_RTWB2 = moor_ds.sel(ID='RTWB2').lon.values\n",
    "lat_RTWB2 = moor_ds.sel(ID='RTWB2').lat.values\n",
    "lon_RTWB = (lon_RTWB1 + lon_RTWB2)/2\n",
    "lat_RTWB = (lat_RTWB1 + lat_RTWB2)/2\n",
    "lon_RTEB = moor_ds.sel(ID='RTEB1').lon.values\n",
    "lat_RTEB = moor_ds.sel(ID='RTEB1').lat.values\n",
    "lon_RTADCP = moor_ds.sel(ID='RTADCP').lon.values\n",
    "lat_RTADCP = moor_ds.sel(ID='RTADCP').lat.values\n",
    "lon_RTWS = moor_ds.sel(ID='RTWS').lon.values\n",
    "lat_RTWS = lat_RTWB\n",
    "lon_RTES = moor_ds.sel(ID='RTES').lon.values\n",
    "lat_RTES = lat_RTEB"
   ]
  },
  {
   "cell_type": "code",
   "execution_count": 15,
   "id": "df612095-4459-4ad1-ac63-8081b33eed24",
   "metadata": {},
   "outputs": [
    {
     "name": "stdout",
     "output_type": "stream",
     "text": [
      "Data is in GLORYS reanlysis and interim period\n"
     ]
    }
   ],
   "source": [
    "# Rockall Trough mooring location\n",
    "ds_RT_loc=rtd.load_RT_loc()\n",
    "\n",
    "# gridded Rockall Trough mooring data\n",
    "ds_RT = xr.open_dataset((sps.RT_mooring_data_path/RT_mooring_fn))\n",
    "\n",
    "#remove nan at beginning and end\n",
    "ds_RT = ds_RT.where(ds_RT.TG_EAST.sel(PRES=500).notnull().drop_vars('PRES'),drop=True)\n",
    "\n",
    "# extrapolate upper values of velocity\n",
    "dim_x = 'TIME'\n",
    "dim_y = 'PRES'\n",
    "graphics = False\n",
    "ds_RT = rtf.extr_moored_RT_timeseries(ds_RT,dim_x,dim_y,graphics=graphics)\n",
    "\n",
    "#linearly interpolate over time gaps in velocity fields\n",
    "ds_RT = ds_RT.interpolate_na(dim='TIME')\n",
    "\n",
    "# Get z from P\n",
    "ds_RT.coords['depth'] = gsw.z_from_p(ds_RT.PRES,np.mean([ds_RT_loc.lat_RTWB, ds_RT_loc.lat_RTEB]))\n",
    "ds_RT.depth.attrs = {'name' :'depth',\n",
    "                     'units' :'m',}\n",
    "# Create merged WB1/2 CM\n",
    "ds_RT = rtf.merge_RT_WB1_2(ds_RT)\n",
    "ds_RT = rtf.ds_rt_swap_vert_dim(ds_RT)\n",
    "\n",
    "# Load  GEBCO bathymetry\n",
    "ds_GEBCO = xr.open_dataset((sps.GEBCO_data_path/sps.GEBCO_fn))\n",
    "ds_GEBCO = ds_GEBCO.where(ds_GEBCO.elevation<=0)\n",
    "\n",
    "# load GLORYS model data\n",
    "ds_GLORYS = rtd.load_glorys('RTADCP',ds_RT.TIME.min(),ds_RT.TIME.max())\n"
   ]
  },
  {
   "cell_type": "code",
   "execution_count": 16,
   "id": "41c6cff1-9936-480e-91f6-61226fe04abb",
   "metadata": {},
   "outputs": [
    {
     "ename": "NameError",
     "evalue": "name 'RT_q_data_path' is not defined",
     "output_type": "error",
     "traceback": [
      "\u001b[1;31m---------------------------------------------------------------------------\u001b[0m",
      "\u001b[1;31mNameError\u001b[0m                                 Traceback (most recent call last)",
      "Cell \u001b[1;32mIn[16], line 2\u001b[0m\n\u001b[0;32m      1\u001b[0m \u001b[38;5;66;03m#Reconstructed Rockall Trough transport section\u001b[39;00m\n\u001b[1;32m----> 2\u001b[0m ds_q_RT \u001b[38;5;241m=\u001b[39m xr\u001b[38;5;241m.\u001b[39mopen_dataset((RT_q_data_path\u001b[38;5;241m/\u001b[39mRT_q_fn))\n\u001b[0;32m      3\u001b[0m ds_q_RT[\u001b[38;5;124m'\u001b[39m\u001b[38;5;124mv_EW\u001b[39m\u001b[38;5;124m'\u001b[39m]\u001b[38;5;241m=\u001b[39m(ds_q_RT\u001b[38;5;241m.\u001b[39mq_EW\u001b[38;5;241m/\u001b[39m(ds_q_RT\u001b[38;5;241m.\u001b[39mdx_EW\u001b[38;5;241m*\u001b[39mds_q_RT\u001b[38;5;241m.\u001b[39mdz))\n\u001b[0;32m      4\u001b[0m ds_q_RT\u001b[38;5;241m.\u001b[39mv_EW\u001b[38;5;241m.\u001b[39mattrs \u001b[38;5;241m=\u001b[39m {\u001b[38;5;124m'\u001b[39m\u001b[38;5;124mname\u001b[39m\u001b[38;5;124m'\u001b[39m:\u001b[38;5;124m'\u001b[39m\u001b[38;5;124mvcur\u001b[39m\u001b[38;5;124m'\u001b[39m,\n\u001b[0;32m      5\u001b[0m                     \u001b[38;5;124m'\u001b[39m\u001b[38;5;124mlong_name\u001b[39m\u001b[38;5;124m'\u001b[39m:\u001b[38;5;124m'\u001b[39m\u001b[38;5;124mMeridional Velocities\u001b[39m\u001b[38;5;124m'\u001b[39m,\n\u001b[0;32m      6\u001b[0m                     \u001b[38;5;124m'\u001b[39m\u001b[38;5;124munits\u001b[39m\u001b[38;5;124m'\u001b[39m:\u001b[38;5;124m'\u001b[39m\u001b[38;5;124mm/s\u001b[39m\u001b[38;5;124m'\u001b[39m}\n",
      "\u001b[1;31mNameError\u001b[0m: name 'RT_q_data_path' is not defined"
     ]
    }
   ],
   "source": [
    "#Reconstructed Rockall Trough transport section\n",
    "ds_q_RT = xr.open_dataset((RT_q_data_path/RT_q_fn))\n",
    "ds_q_RT['v_EW']=(ds_q_RT.q_EW/(ds_q_RT.dx_EW*ds_q_RT.dz))\n",
    "ds_q_RT.v_EW.attrs = {'name':'vcur',\n",
    "                    'long_name':'Meridional Velocities',\n",
    "                    'units':'m/s'}\n",
    "ds_q_RT = ds_q_RT.sel(depth=slice(None,1000))"
   ]
  },
  {
   "cell_type": "code",
   "execution_count": null,
   "id": "457c766c-00e3-4da9-baa4-d1311796c331",
   "metadata": {
    "tags": []
   },
   "outputs": [],
   "source": [
    "#load glider\n",
    "ds_glider = matlab_fct.load_glider_mat(sps.glider_data_path,sps.glider_fn)\n",
    "ds_glider_nan = rt_eof.add_nan_glider_sections(ds_glider)"
   ]
  },
  {
   "cell_type": "markdown",
   "id": "b8ec8f03-d865-4cd8-ade4-4e9667c11c03",
   "metadata": {
    "tags": []
   },
   "source": [
    "# Analysis\n",
    "\n",
    "#### To Do\n",
    "- [ ] Calc some stats for glider reconstruction\n",
    "- [ ] Calc transport instead of spatially average velocities\n",
    "- [ ] Add attributes\n",
    "- [ ] Repeat using EOFs instead of HEOFs --> see 2.0_Rockall_Trough_glider_EW_EOF_2020_2022.ipynb\n",
    "- [ ] Repeat using extended EOFs instead of HEOFs\n",
    "\n",
    "#### Naming conventio\n",
    "- Glider - velocity from glider sections May 2020- Feb 2023\n",
    "- RT EW full - full data set (Jul 2014- Jul 2022) - velocity section from eastern wedge transport reconstruction (Fraser et al., 2022)  \n",
    "- RT EW 2020-2022 - data from period Jan 2020- Jul 2022 - velocity section from eastern wedge transport reconstruction (Fraser et al., 2022)  \n",
    "- RT EW resampled - data interpolated on Glider time stamp (May 20-Jul 23) -velocity section from eastern wedge transport reconstruction (Fraser et al., 2022) \n",
    "    !NOTE: RT EW time series ends in July 2022 and does not cover full glider timeseries!"
   ]
  },
  {
   "cell_type": "markdown",
   "id": "2f545ade-dedc-4aa2-ba82-fbf8929b292a",
   "metadata": {
    "tags": []
   },
   "source": [
    "## Mean velocity section"
   ]
  },
  {
   "cell_type": "code",
   "execution_count": null,
   "id": "10bb486e-ec4f-4504-a1bc-5bf09eeacca8",
   "metadata": {
    "tags": []
   },
   "outputs": [],
   "source": [
    "fig,axs = plt.subplots(1,4,figsize=[15,3])\n",
    "vmin,vmax,levs=-0.2,0.2,41\n",
    "ds_q_RT['depth']=-1*ds_q_RT.depth\n",
    "ax=axs[0]\n",
    "ds_glider.vcur.mean(['time']).plot(x='lon',ax=ax,vmin=vmin,vmax=vmax,levels=levs,cmap='RdBu_r')\n",
    "ax.set_title('Glider')\n",
    "ax=axs[1]\n",
    "ds_q_RT.v_EW.mean(['TIME']).plot(x='lon_EW',ax=ax,vmin=vmin,vmax=vmax,levels=levs,cmap='RdBu_r')\n",
    "ax.set_title('RT EW full')\n",
    "ax=axs[2]\n",
    "ds_q_RT.v_EW.interp(TIME=ds_glider.time.values\n",
    "                   ).mean(['TIME']).plot(x='lon_EW',ax=ax,vmin=vmin,vmax=vmax,levels=levs,cmap='RdBu_r')\n",
    "ax.set_title('RT EW 2020-2022')\n",
    "ax=axs[3]\n",
    "ds_q_RT.v_EW.sel(TIME=slice('2020',None)\n",
    "                ).mean(['TIME']).plot(x='lon_EW',ax=ax,vmin=vmin,vmax=vmax,levels=levs,cmap='RdBu_r')\n",
    "ax.set_title('RT EW resampled')\n",
    "plt.tight_layout()"
   ]
  },
  {
   "cell_type": "markdown",
   "id": "db13548a-ea8d-491b-af27-4f511da3b372",
   "metadata": {},
   "source": [
    "We are missing the undercurrent in ER EW reconstruction."
   ]
  },
  {
   "cell_type": "markdown",
   "id": "2af775f0-1bf0-4107-bf3d-7c06c3acf701",
   "metadata": {
    "tags": []
   },
   "source": [
    "## Seasonal Cycle - spatially averaged velocity"
   ]
  },
  {
   "cell_type": "code",
   "execution_count": null,
   "id": "3fd7c6da-9cd4-43b7-984e-d0362eff2b25",
   "metadata": {
    "tags": []
   },
   "outputs": [],
   "source": [
    "color='C0'\n",
    "m=ds_glider.vcur.groupby('time.month').mean(['time','lon','depth'])\n",
    "d=ds_glider.vcur.groupby('time.month').std('time').mean(['lon','depth'])\n",
    "plt.errorbar(m.month, m, yerr=d, fmt='-', capsize=3, capthick=1, color=color,label='Glider')\n",
    "\n",
    "color='C1'\n",
    "m = ds_q_RT.v_EW.groupby('TIME.month').mean(['TIME','lon_EW','depth']) \n",
    "d=ds_q_RT.v_EW.groupby('TIME.month').std('TIME').mean(['lon_EW','depth'])\n",
    "plt.errorbar(m.month, m, yerr=d, fmt='-', capsize=3, capthick=1, color=color,label='RT EW full')\n",
    "\n",
    "color='C2'\n",
    "m = ds_q_RT.v_EW.interp(TIME=ds_glider.time.values\n",
    "                ).groupby('TIME.month').mean(['TIME','lon_EW','depth'])\n",
    "d=ds_q_RT.v_EW.interp(TIME=ds_glider.time.values\n",
    "                ).groupby('TIME.month').std('TIME').mean(['lon_EW','depth'])\n",
    "plt.errorbar(m.month, m, yerr=d, fmt='-', capsize=3, capthick=1, color=color,label='RT EW resampled')\n",
    "\n",
    "color='C3'\n",
    "m = ds_q_RT.v_EW.sel(TIME=slice('2020',None)\n",
    "                ).groupby('TIME.month').mean(['TIME','lon_EW','depth'])\n",
    "d=ds_q_RT.v_EW.sel(TIME=slice('2020',None)\n",
    "                ).groupby('TIME.month').std('TIME').mean(['lon_EW','depth'])\n",
    "plt.errorbar(m.month, m, yerr=d, fmt='-', capsize=3, capthick=1, color=color,label='RT EW 2020-2022')\n",
    "plt.legend()\n",
    "plt.grid()"
   ]
  },
  {
   "cell_type": "markdown",
   "id": "3414771d-26d4-4c3d-bf1b-b17e315a1a14",
   "metadata": {},
   "source": [
    "When resampled on the same time stamp, the glider and the RT EW reconstruction are quite silimar. However, when compared to the full time series it is clear that the seasonal cycle reconstructed from the glider still suffers from aliasing.\n",
    "\n",
    "August high velocities in glider section dominated by values observed in August 2022 (see figure below). Unfortunatly the moored transport time series ends in July 2022!"
   ]
  },
  {
   "cell_type": "markdown",
   "id": "dfb6a704-54d8-44a5-9ae3-0c975e59e598",
   "metadata": {
    "tags": []
   },
   "source": [
    "## Time series in original resolution 2020-2022 - spatially averaged velocity"
   ]
  },
  {
   "cell_type": "code",
   "execution_count": null,
   "id": "d3244e25-3984-47de-8f8d-3a096de2230d",
   "metadata": {
    "tags": []
   },
   "outputs": [],
   "source": [
    "ds_q_RT.v_EW.sel(TIME=slice(ds_glider.time.min().values,ds_glider.time.max().values)\n",
    "                ).mean(['lon_EW','depth']).plot.line('-',label='RT EW orig',figsize=[12,3],color='C1')\n",
    "ds_glider.vcur.mean(['lon','depth']).plot.line('-',label='glider',color='C0')\n",
    "# ds_q_RT.v_EW.interp(TIME=ds_glider.time.values\n",
    "#                 ).mean(['lon_EW','depth']).plot.line('-',label='RT EW resampled')\n",
    "plt.legend()\n",
    "plt.grid()"
   ]
  },
  {
   "cell_type": "markdown",
   "id": "2dcad8f7-c645-45eb-835e-6ec4403e5a19",
   "metadata": {
    "tags": []
   },
   "source": [
    "# HEOF"
   ]
  },
  {
   "cell_type": "markdown",
   "id": "54269bef-8258-47d3-a77e-ed7419b3666a",
   "metadata": {
    "tags": []
   },
   "source": [
    "### Idealized dataset\n",
    "- Barotropic signal varying only in time with a period of T=365 days + Travelling wave with a  period of T=73 days\n",
    "- Amplitude of annual signal is 1.5 higher than travelling wave\n",
    "\n",
    "#### Snapshots of idealiezed dataset for different time periods"
   ]
  },
  {
   "cell_type": "code",
   "execution_count": null,
   "id": "d6fe31e3-6c6d-454e-9020-10b29322112a",
   "metadata": {
    "tags": []
   },
   "outputs": [],
   "source": [
    "T=73\n",
    "x = xr.DataArray(np.linspace(0,10,101),dims='x')\n",
    "y = xr.DataArray(np.linspace(0,5,101),dims='y')\n",
    "t = xr.DataArray(np.linspace(0,5*365,5*73+1),dims='time')\n",
    "w=2*np.pi/T\n",
    "k=2*np.pi/20\n",
    "l=2*np.pi/10\n",
    "\n",
    "v = np.sin(k*x+l*y+w*t)+1.5*harmonic_cycle(t, T=365, phi=0)\n",
    "v = v-v.mean('time')\n",
    "\n",
    "v.name='v'\n",
    "v.coords['x']=x\n",
    "v.coords['y']=y\n",
    "v.coords['time']=t\n",
    "v.time.attrs = {'units':'days'}\n",
    "\n",
    "v.sel(time=[0,20,35,50,75]).plot(x='x',col='time')\n",
    "plt.show()"
   ]
  },
  {
   "cell_type": "markdown",
   "id": "7c5d5f80-f57c-4b98-8df2-052ddf4ec21e",
   "metadata": {},
   "source": [
    "#### Results of the HEOF analysis of the idealized dataset"
   ]
  },
  {
   "cell_type": "code",
   "execution_count": null,
   "id": "354e8106-87b8-4968-8d7d-ceafef51c46d",
   "metadata": {
    "tags": []
   },
   "outputs": [],
   "source": [
    "model = HEOF_func(v)"
   ]
  },
  {
   "cell_type": "markdown",
   "id": "f97bd6c5-a865-4784-be5d-7130efd7c0a7",
   "metadata": {},
   "source": [
    "This is a demonstration how to interprete the figures below. The HEOF scores show the temporal evolution of the pattern (components_amplitude and components_phase). A homogenous phase indicates that the signal does not travel spatially. In this case mode 1 shows a the spatially homogenous anual strengthening and weakening, while mode 2 show the semi-annual signal wich is propageting through the domain (as presented by the phase). Mode 3 and 4 are noise and irrelavant (explained variance is closed to zero).\n",
    "\n",
    "In the following I applied the same method to the glider and ET EW velocity sections"
   ]
  },
  {
   "cell_type": "markdown",
   "id": "8a56e116-b676-4a7f-8b9e-73bcf97fbf2c",
   "metadata": {
    "tags": []
   },
   "source": [
    "### Glider data\n",
    "Resampled to 15 days and mean removed"
   ]
  },
  {
   "cell_type": "code",
   "execution_count": null,
   "id": "0e9725f9-b083-4eab-91c8-4b2498ed76c8",
   "metadata": {
    "tags": []
   },
   "outputs": [],
   "source": [
    "# remove mean\n",
    "v_anomaly = ds_glider.vcur.resample(time=\"15D\").mean()\n",
    "v_anomaly = v_anomaly - v_anomaly.mean('time',keep_attrs=True)\n",
    "\n",
    "glider_HEOF = HEOF_func(v_anomaly,dim='lon')"
   ]
  },
  {
   "cell_type": "markdown",
   "id": "6e95ab60-ca11-4801-ab69-66b042290a36",
   "metadata": {},
   "source": [
    "The first HEOF seems to display a strengthing/weakening of the velocity field in time (homogenous phase) in the entire domain explaining 68% of the variance in the glider section. This agrees well with the phase and explained variance of HEOF 1 of the reconstructed velocity section using EB1 and GLORYS12v2 output at the ADCP position following Fraser et al. (2022). Here the temporal strengthening/weakening explains up to 83% (see figures below for different time periods). However, comparing the amplitudes between glider and reconstructed velocities the later are dominated by velocities at EB1 while the glider section show highest amplitudes between EB1 and the ADCP.\n",
    "\n",
    "Undercurrent in glider HEOF 1 is visible with low amplitudes and a up to ~90 degree phase shift (dark red to dark blue ~90)\n",
    "\n",
    "The second HEOF I would interprete a zonal shift of the slope current with negative velocity to the west of the slope current when the slope current sits shallow in the east onto the shelf and vice versa. Again, HEOF2 from the reconstructed veloctiy field (Fraser et al., 2022) agrees well with the glider results. The zero crossing in the reconstructed velocity fields seems to be too far west compared to glider sections.\n",
    "\n",
    "Again, undercurrent in glider HEOF 2 visible with low amplitudes/high east/west of its core in HEOF1. Phase shift of ~180 degree between the high/low amplitudes --> zonally migration? --> see if present in ship ladcp?\n",
    "\n",
    "HEOF 3&4 from the glider sections are quite similar and more difficult to interprete. Together they explain up to 9%. I am wondering whether this depicts the vertical migration of the under current or some kind of recirculation between EB1 and the ADCP position? This feature is not visible in the velocity reconstruction from the moored observation (Fraser et al., 2022) which make sense as we do not have any information what happens between EB1 and the ADCP."
   ]
  },
  {
   "cell_type": "markdown",
   "id": "8347a186-6a76-4947-b946-3b5b387f318f",
   "metadata": {},
   "source": [
    "### Rockall EW reconstruction\n",
    "#### Full timeseries (2014-2022) \n",
    "original resolution, mean removed\n"
   ]
  },
  {
   "cell_type": "code",
   "execution_count": null,
   "id": "011d4507-f647-4a23-b0c8-dcccad53ca7f",
   "metadata": {
    "tags": []
   },
   "outputs": [],
   "source": [
    "v_anomaly = ds_q_RT.v_EW.rename({'TIME':'time'})\n",
    "\n",
    "# remove mean\n",
    "# v_anomaly = v_anomaly.resample(time=\"15D\").mean()\n",
    "v_anomaly = v_anomaly - v_anomaly.mean('time',keep_attrs=True)\n",
    "\n",
    "model = HEOF_func(v_anomaly,dim='lon_EW')"
   ]
  },
  {
   "cell_type": "markdown",
   "id": "437224ec-dc4d-4ea4-a4ba-5da6da35f46b",
   "metadata": {},
   "source": [
    "#### 2020-2022 \n",
    "original resolution - mean removed"
   ]
  },
  {
   "cell_type": "code",
   "execution_count": null,
   "id": "1fe76b64-20c5-4cf5-9f89-b1acfc7d2b6e",
   "metadata": {
    "tags": []
   },
   "outputs": [],
   "source": [
    "v_anomaly = ds_q_RT.v_EW.sel(TIME=slice('2020','2022')).rename({'TIME':'time'})\n",
    "\n",
    "# remove mean\n",
    "# v_anomaly = v_anomaly.resample(time=\"15D\").mean()\n",
    "v_anomaly = v_anomaly - v_anomaly.mean('time',keep_attrs=True)\n",
    "\n",
    "model = HEOF_func(v_anomaly,dim='lon_EW')"
   ]
  },
  {
   "cell_type": "markdown",
   "id": "209ba6a8-a4e8-45ac-8316-f6d73ab9b453",
   "metadata": {},
   "source": [
    "#### Interp on glider time stamps\n",
    "15D averaged and mean removed"
   ]
  },
  {
   "cell_type": "code",
   "execution_count": null,
   "id": "4438efb6-85f2-4ac3-818c-514c421c2f70",
   "metadata": {
    "tags": []
   },
   "outputs": [],
   "source": [
    "v_anomaly = ds_q_RT.v_EW.interp(TIME=ds_glider.time.values).rename({'TIME':'time'})\n",
    "# remove mean\n",
    "v_anomaly = v_anomaly.resample(time=\"15D\").mean()\n",
    "v_anomaly = v_anomaly - v_anomaly.mean('time',keep_attrs=True)\n",
    "\n",
    "model = HEOF_func(v_anomaly,dim='lon_EW')"
   ]
  },
  {
   "cell_type": "markdown",
   "id": "03635379-e6b2-479f-8bc8-3e39778da346",
   "metadata": {
    "tags": []
   },
   "source": [
    "# Reconstruction\n",
    "Idea: Use the spatial pattern from the HEOF ($X$) reproduce velocity section ($y$) for the eastern wedge:\n",
    "$$\n",
    "X \\alpha = y\n",
    "$$\n",
    "\n",
    "Therefore we first need to find alpha. We know y at certain locations: the meridional velocities from RTEB1 and GLORYS2v12-ADCP. We can stack them together to get $y_{loc}$, use the HEOF at the mooring positions ($X_{loc}$) and find alpha by solving:\n",
    "\n",
    "$$\n",
    "X_{loc}^{T}X_{loc} \\alpha = X_{loc}^{T}y_{loc}\n",
    "$$\n",
    "$$\n",
    "\\alpha = (X_{loc}^{T}X_{loc})^{-1} X_{loc}^{T}y_{loc}\n",
    "$$\n",
    "\n"
   ]
  },
  {
   "cell_type": "code",
   "execution_count": null,
   "id": "3ef88613-76d8-4a7d-9f53-adca58f87671",
   "metadata": {
    "tags": []
   },
   "outputs": [],
   "source": [
    "def lin_reg(X,y):\n",
    "    XT = X.transpose() # dims (mode,depth*lon)\n",
    "    XT_X = np.matmul(XT,X) # dims (mode,mode)\n",
    "    XT_y = np.matmul(XT,y) # dims (mode,time)\n",
    "    alpha=np.matmul(np.linalg.inv(XT_X),XT_y) # dims (mode,time)\n",
    "    # print(f'alpha dims: {alpha.shape}')\n",
    "    return alpha\n",
    "\n",
    "def HEOF_alpha(ds_X,ds_y):\n",
    "    # reshape to (depth*lon,time)\n",
    "    y = np.matrix(ds_y.stack(loc=['depth','lon']).fillna(0).to_numpy()).transpose()\n",
    "    # print(f'y dims: {y.shape}')\n",
    "\n",
    "    ds_X['depth']=np.abs(ds_X.depth)\n",
    "    ds_X = ds_X.reindex(depth=list(reversed(ds_X.depth)))\n",
    "    ds_X['lat']=glider_locs.lat\n",
    "    # reshape dimension (depth*lon,mode)\n",
    "    X = np.matrix(ds_X.stack(loc=['depth','lon']).fillna(0).to_numpy()).transpose()\n",
    "    # print(f'X dims: {X.shape}')\n",
    "    \n",
    "    return xr.DataArray(data=lin_reg(X,y),coords=dict(mode=(ds_X.mode),time=ds_y.time))\n",
    "\n",
    "def rec_v_sec(ds_X,ds_y):\n",
    "    v_rec_sec = xr.DataArray()\n",
    "    for nmod in ds_X.mode.values:\n",
    "        alpha = HEOF_alpha(ds_X.sel(mode=slice(None,nmod)),ds_y)\n",
    "\n",
    "        # reconstruction = alpha*HEOF_EV + mean_glider_section\n",
    "        v_rec = glider_HEOF.components()*alpha+ds_glider.vcur.mean('time')\n",
    "        v_rec = v_rec.real.mean('mode')\n",
    "        v_rec['mode']=nmod\n",
    "        if nmod == 1:    \n",
    "            v_rec_sec = v_rec\n",
    "        else:\n",
    "            v_rec_sec = xr.concat([v_rec_sec,v_rec],dim='mode')\n",
    "    return v_rec_sec"
   ]
  },
  {
   "cell_type": "code",
   "execution_count": null,
   "id": "2166d25b-e9be-403b-8081-19fb80a4f644",
   "metadata": {
    "tags": []
   },
   "outputs": [],
   "source": [
    "## Recreate glider section using glider obs at point of ERTEB1 and RTADCP for some stats"
   ]
  },
  {
   "cell_type": "code",
   "execution_count": null,
   "id": "723abcd3-6435-4610-bba6-6d331c91afc8",
   "metadata": {
    "tags": []
   },
   "outputs": [],
   "source": [
    "# Create y from glider data for linear regression (X'X*alpha=X'y)\n",
    "#get mean glider section at mooring positions\n",
    "glider_locs = ds_glider.vcur.sel(lon=[lon_RTEB,lon_RTADCP],method='nearest')\n",
    "glider_locs['depth']=np.abs(glider_locs.depth)\n",
    "\n",
    "# Remove glider sections temporal mean from X\n",
    "ds_y= (glider_locs - glider_locs.mean('time')).compute()\n",
    "\n",
    "# get HEOF components at mooring positions as X for linear regression (X'X*alpha=X'y)\n",
    "# initial X matrix (mode,lon,depth)\n",
    "ds_X = glider_HEOF.components().sel(lon=[lon_RTEB,lon_RTADCP],method='nearest').compute()\n",
    "\n",
    "# get alpha & reconstruct velocity fields\n",
    "v_rec_glider_moor = rec_v_sec(ds_X,ds_y)"
   ]
  },
  {
   "cell_type": "code",
   "execution_count": null,
   "id": "dd8a9381-1a08-408b-9be2-76da895b4f4c",
   "metadata": {
    "tags": []
   },
   "outputs": [],
   "source": [
    "# Create y from glider data for linear regression (X'X*alpha=X'y)\n",
    "#Use entire glider section for recreation\n",
    "glider_locs = ds_glider.vcur\n",
    "glider_locs['depth']=np.abs(glider_locs.depth)\n",
    "\n",
    "# Remove glider sections temporal mean from X\n",
    "ds_y= (glider_locs - glider_locs.mean('time')).compute()\n",
    "\n",
    "# get HEOF components at mooring positions as X for linear regression (X'X*alpha=X'y)\n",
    "# initial X matrix (mode,lon,depth)\n",
    "ds_X = glider_HEOF.components().compute()\n",
    "\n",
    "# get alpha & reconstruct velocity fields\n",
    "v_rec_glider_full = rec_v_sec(ds_X,ds_y)"
   ]
  },
  {
   "cell_type": "code",
   "execution_count": null,
   "id": "b918a52f-8dd9-4af4-855d-c73a9bd74dc2",
   "metadata": {
    "tags": []
   },
   "outputs": [],
   "source": [
    "# plot_mean_section(ds_glider,ds_q_RT,v_rec_glider_moor)\n",
    "# plot_mean_section(ds_glider,ds_q_RT,v_rec_glider_moor,mode_no=[1,2],mean=True)\n",
    "# plot_mean_section(ds_glider,ds_q_RT,v_rec_glider_full,mode_no=[1,2],mean=True)"
   ]
  },
  {
   "cell_type": "markdown",
   "id": "b16e4fdb-d520-4a4d-8ccc-114dd1c9508f",
   "metadata": {},
   "source": [
    "## Recreate sections from moorings"
   ]
  },
  {
   "cell_type": "code",
   "execution_count": null,
   "id": "31d15c8d-ba1f-4a04-8fc0-4309007a0664",
   "metadata": {
    "tags": []
   },
   "outputs": [],
   "source": [
    "# Create y from moored velocity data for linear regression (X'X*alpha=X'y)\n",
    "#get mean glider section at mooring positions\n",
    "glider_locs = ds_glider.vcur.sel(lon=[lon_RTEB,lon_RTADCP],method='nearest').mean('time').compute()\n",
    "glider_locs['depth']=np.abs(glider_locs.depth)\n",
    "\n",
    "# Get RTEB1 meridional velocity\n",
    "v_RTEB1=(ds_RT.V_EAST/1e2).interp(depth=('depth',glider_locs.depth.data)).rename({'TIME':'time'}).drop('PRES')\n",
    "\n",
    "# Get Glorys data at ADCP station and apply corretions\n",
    "v_GLO_RTADCP = ds_GLORYS.vo.interp(longitude=glider_locs.lon.sel(lon=[lon_RTADCP],method='nearest').data,\n",
    "                    latitude=lat_RTADCP,\n",
    "                    time=('time',v_RTEB1.time.data),\n",
    "                    depth=('depth',glider_locs.depth.data)) + corr_model\n",
    "\n",
    "# Duplicate top GLORYS-ADCP values\n",
    "mask = v_GLO_RTADCP\n",
    "mask = (mask.notnull()+mask.shift(depth=-1).notnull())\n",
    "v_GLO_RTADCP = v_GLO_RTADCP.interpolate_na(dim=\"depth\", method=\"nearest\", fill_value=\"extrapolate\")\n",
    "v_GLO_RTADCP = v_GLO_RTADCP.where(mask).rename({'longitude':'lon'})\n",
    "\n",
    "\n",
    "# combinde both to one matrix (time,depth,lon)\n",
    "ds_y = xr.concat([v_RTEB1,v_GLO_RTADCP.drop_vars(['latitude','lon'])], dim=\"lon\")\n",
    "ds_y['lon']=glider_locs.lon.data\n",
    "\n",
    "# Remove glider sections temporal mean from X\n",
    "ds_y = (ds_y-glider_locs).compute()\n",
    "\n",
    "# get HEOF components at mooring positions as X for linear regression (X'X*alpha=X'y)\n",
    "# initial X matrix (mode,lon,depth)\n",
    "ds_X = glider_HEOF.components().sel(lon=[lon_RTEB,lon_RTADCP],method='nearest').compute()\n",
    "\n",
    "# get alpha & reconstruct velocity fields\n",
    "v_rec = rec_v_sec(ds_X,ds_y)"
   ]
  },
  {
   "cell_type": "markdown",
   "id": "2613aed7-52ca-4a64-ae4d-b8f144f21ac5",
   "metadata": {},
   "source": [
    "## Mean section of glider, RT EW full and HEOF-reconstructions\n",
    "- Glider - velocity from glider sections May 2020- Feb 2023\n",
    "- RT EW full - full data set (Jul 2014- Jul 2022) - velocity section from eastern wedge transport reconstruction (Fraser et al., 2022)  \n",
    "- HEOF [X] full - HEOF reconstruction averaging over [X] modes for the full mooring time period (Jul 2014- Jul 2022)\n",
    "- HEOF [X] resampled - data interpolated on Glider time stamp (May 20-Jul 23) using HEOF reconstruction averaged over [X] modes \n",
    "    !NOTE: mooring time series ends in July 2022 and does not cover full glider timeseries!"
   ]
  },
  {
   "cell_type": "code",
   "execution_count": null,
   "id": "42184216-47c1-4205-9f79-1874b171c024",
   "metadata": {
    "tags": []
   },
   "outputs": [],
   "source": [
    "plot_mean_section(ds_glider,ds_q_RT,v_rec)"
   ]
  },
  {
   "cell_type": "code",
   "execution_count": null,
   "id": "74c9f150-f5a5-47e3-b3da-9764c62c4e4d",
   "metadata": {
    "tags": []
   },
   "outputs": [],
   "source": [
    "plot_mean_section(ds_glider,ds_q_RT,v_rec,mode_no=[1,2],mean=True)"
   ]
  },
  {
   "cell_type": "code",
   "execution_count": null,
   "id": "5e6f3553-ef3a-4d68-86ae-5d801af89184",
   "metadata": {
    "tags": []
   },
   "outputs": [],
   "source": [
    "plot_mean_section(ds_glider,ds_q_RT,v_rec,mode_no=[1,2,3,4],mean=True)"
   ]
  },
  {
   "cell_type": "markdown",
   "id": "970fbb2b-1572-481d-8059-1f85135bf277",
   "metadata": {},
   "source": [
    "## Seasonal Cycle"
   ]
  },
  {
   "cell_type": "code",
   "execution_count": null,
   "id": "093e2456-bbee-4013-8e94-4e0a1ef201f9",
   "metadata": {
    "tags": []
   },
   "outputs": [],
   "source": [
    "fig,axs = plt.subplots(1,3,figsize=[15,3])\n",
    "ax=axs[0]\n",
    "plot_seasonal_cycle(ds_glider,ds_q_RT,v_rec,ax=ax,mode_no=1,mean=False)\n",
    "ax=axs[1]\n",
    "plot_seasonal_cycle(ds_glider,ds_q_RT,v_rec,ax=ax,mode_no=[1,2],mean=True)\n",
    "ax=axs[2]\n",
    "plot_seasonal_cycle(ds_glider,ds_q_RT,v_rec,ax=ax,mode_no=[1,2,3,4],mean=True)"
   ]
  },
  {
   "cell_type": "markdown",
   "id": "283719b0-ac4c-4aa9-83cb-cf744089dc24",
   "metadata": {
    "tags": []
   },
   "source": [
    "## Time series in original resolution 2020-2022 - spatially averaged velocity"
   ]
  },
  {
   "cell_type": "code",
   "execution_count": null,
   "id": "853401ca-4356-49c4-9acc-0de6eabda5b1",
   "metadata": {
    "tags": []
   },
   "outputs": [],
   "source": [
    "fig,axs = plt.subplots(3,1,figsize=[12,9])\n",
    "ax=axs[0]\n",
    "plot_longterm(ds_glider.interpolate_na(dim=\"time\", method=\"linear\",max_gap='5D'),ds_q_RT,v_rec,ax=ax,mode_no=1,mean=False)\n",
    "ax=axs[1]\n",
    "plot_longterm(ds_glider.interpolate_na(dim=\"time\", method=\"linear\",max_gap='5D'),ds_q_RT,v_rec,ax=ax,mode_no=[1,2],mean=True)\n",
    "ax=axs[2]\n",
    "plot_longterm(ds_glider.interpolate_na(dim=\"time\", method=\"linear\",max_gap='5D'),ds_q_RT,v_rec,ax=ax,mode_no=[1,2,3,4],mean=True)"
   ]
  },
  {
   "cell_type": "markdown",
   "id": "7cac2742-7bfe-4ffa-a3c4-cf5585f6ade7",
   "metadata": {},
   "source": [
    "HEOF mode 1 seems to best to recontruct velocity fields. No additional values gained for variability. Only better representation of slope current structure."
   ]
  }
 ],
 "metadata": {
  "kernelspec": {
   "display_name": "Python [conda env:OI]",
   "language": "python",
   "name": "conda-env-OI-py"
  },
  "language_info": {
   "codemirror_mode": {
    "name": "ipython",
    "version": 3
   },
   "file_extension": ".py",
   "mimetype": "text/x-python",
   "name": "python",
   "nbconvert_exporter": "python",
   "pygments_lexer": "ipython3",
   "version": "3.11.8"
  },
  "widgets": {
   "application/vnd.jupyter.widget-state+json": {
    "state": {},
    "version_major": 2,
    "version_minor": 0
   }
  }
 },
 "nbformat": 4,
 "nbformat_minor": 5
}
